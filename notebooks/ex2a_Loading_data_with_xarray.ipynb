{
 "cells": [
  {
   "cell_type": "markdown",
   "metadata": {},
   "source": [
    "# Loading data using Xarray"
   ]
  },
  {
   "cell_type": "markdown",
   "metadata": {},
   "source": [
    "We're going to try some basic operations with:\n",
    "\n",
    "* monthly average (`Amon`) near-surface air temperatures (`tas`)\n",
    "* from the latest version (`latest`) of the Met Office Hadley Centre's (`MOHC`) [Hadley Centre Global Environment Model version 3](https://www.metoffice.gov.uk/research/approach/modelling-systems/unified-model/climate-models/hadgem3) (`HadGEM3-GC31-LL`)\n",
    "* running the pre-industrial control experiment (`piControl`) variant `r1i1p1f1`"
   ]
  },
  {
   "cell_type": "markdown",
   "metadata": {},
   "source": [
    "We'll be:\n",
    "\n",
    "* [Loading single or multiple NetCDF files](#Loading-single-or-multiple-NetCDF-files)\n",
    "* [Selecting data for a coordinate or data variable](#Selecting-data-for-a-coordinate-or-data-variable)\n",
    "* [Selecting data by value, range or condition](#Selecting-data-by-value,-range-or-condition)\n",
    "* [Selecting data by position](#Selecting-data-by-position)\n",
    "* [Aggregrating data by dimension](#Aggregrating-data-by-dimension)\n",
    "* [Resampling time series data](#Resampling-time-series-data)\n",
    "* [Grouping dimensions by value](#Grouping-dimensions-by-value)\n",
    "* [Plotting line graphs](#Plotting-line-graphs)\n",
    "* [Plotting colormeshes](#Plotting-colormeshes)\n",
    "* [Plotting facet grids](#Plotting-facet-grids)\n",
    "* Plotting on a projection - TODO\n",
    "* Accessing raw data with .values - TODO"
   ]
  },
  {
   "cell_type": "markdown",
   "metadata": {},
   "source": [
    "The data is available on JASMIN here:"
   ]
  },
  {
   "cell_type": "code",
   "execution_count": null,
   "metadata": {},
   "outputs": [],
   "source": [
    "data_directory = '/badc/cmip6/data/CMIP6/CMIP/MOHC/HadGEM3-GC31-LL/piControl/r1i1p1f1/Amon/tas/gn/latest'\n",
    "\n",
    "!ls {data_directory}"
   ]
  },
  {
   "cell_type": "code",
   "execution_count": null,
   "metadata": {
    "scrolled": true
   },
   "outputs": [],
   "source": [
    "!ncdump -h {data_directory}/tas_Amon_HadGEM3-GC31-LL_piControl_r1i1p1f1_gn_195001-204912.nc"
   ]
  },
  {
   "cell_type": "markdown",
   "metadata": {},
   "source": [
    "First, import the libraries we will be using:"
   ]
  },
  {
   "cell_type": "code",
   "execution_count": null,
   "metadata": {},
   "outputs": [],
   "source": [
    "from glob import glob\n",
    "\n",
    "import matplotlib.pyplot as plt\n",
    "import xarray as xr\n",
    "\n",
    "# Set some plotting defaults\n",
    "plt.rcParams['figure.figsize'] = (10, 6)\n",
    "plt.rcParams['figure.dpi'] = 100"
   ]
  },
  {
   "cell_type": "markdown",
   "metadata": {},
   "source": [
    "## Loading single or multiple NetCDF files\n",
    "\n",
    "We can either load a single NetCDF file:"
   ]
  },
  {
   "cell_type": "code",
   "execution_count": null,
   "metadata": {
    "tags": []
   },
   "outputs": [],
   "source": [
    "dataset = xr.load_dataset(data_directory + '/tas_Amon_HadGEM3-GC31-LL_piControl_r1i1p1f1_gn_195001-204912.nc')"
   ]
  },
  {
   "cell_type": "markdown",
   "metadata": {},
   "source": [
    "open multiple NetCDF files as one dataset by using wildcards:"
   ]
  },
  {
   "cell_type": "code",
   "execution_count": null,
   "metadata": {
    "tags": []
   },
   "outputs": [],
   "source": [
    "dataset = xr.open_mfdataset(data_directory + '/*.nc')"
   ]
  },
  {
   "cell_type": "markdown",
   "metadata": {},
   "source": [
    "or even pass a list of NetCDF files if we want to load more than one variable.\n",
    "\n",
    "For example, if we wanted to load near-surface air temperature (`tas`) and precipitation flux (`pr`):\n",
    "\n",
    "<span style=\"color:red\">*Got `ValueError: cannot guess the engine, try passing one explicitly` the original way. It could have been because `open_mfdataset` was being given a list of lists. I've flattened them to one list in my method below - JH*</span> "
   ]
  },
  {
   "cell_type": "code",
   "execution_count": null,
   "metadata": {
    "tags": []
   },
   "outputs": [],
   "source": [
    "import itertools\n",
    "paths = [glob(f'/badc/cmip6/data/CMIP6/CMIP/MOHC/HadGEM3-GC31-LL/piControl/r1i1p1f1/Amon/{variable}/gn/latest/*.nc') for variable in ['tas', 'pr']]\n",
    "paths = list(itertools.chain(*paths))\n",
    "dataset = xr.open_mfdataset(paths)"
   ]
  },
  {
   "cell_type": "markdown",
   "metadata": {},
   "source": [
    "This will (lazily) load the data into an [`xr.DataArray` structure](https://xarray.pydata.org/en/stable/data-structures.html). Loading lazily means that the data will only be loaded into memory as and when calculcations absolutely need to be performed (for example, when plotting a graph). See [Triggering calculations manually](#Triggering-calculations-manually).\n",
    "\n",
    "Looking at `dataset` from within the notebook, we get similar information to the `ncdump -h` command, however it will be formatted nicely with some interactive buttons to help browse the structure of the data:"
   ]
  },
  {
   "cell_type": "code",
   "execution_count": null,
   "metadata": {},
   "outputs": [],
   "source": [
    "dataset"
   ]
  },
  {
   "cell_type": "markdown",
   "metadata": {},
   "source": [
    "We can also check the coordinates and data variables using the `dims` and `data_vars` properties of the dataset, and can access individual attributes by using the `attrs` property:"
   ]
  },
  {
   "cell_type": "code",
   "execution_count": null,
   "metadata": {},
   "outputs": [],
   "source": [
    "dataset.dims"
   ]
  },
  {
   "cell_type": "code",
   "execution_count": null,
   "metadata": {},
   "outputs": [],
   "source": [
    "dataset.data_vars"
   ]
  },
  {
   "cell_type": "code",
   "execution_count": null,
   "metadata": {},
   "outputs": [],
   "source": [
    "dataset.attrs['further_info_url']"
   ]
  },
  {
   "cell_type": "markdown",
   "metadata": {},
   "source": [
    "## Selecting data for a coordinate or data variable"
   ]
  },
  {
   "cell_type": "markdown",
   "metadata": {},
   "source": [
    "The recommended way to select data for a coordinate or data variable is to [use the dataset like a dictionary](https://xarray.pydata.org/en/stable/data-structures.html#dataset-contents):"
   ]
  },
  {
   "cell_type": "code",
   "execution_count": null,
   "metadata": {},
   "outputs": [],
   "source": [
    "air_temperature = dataset['tas']\n",
    "precipitation = dataset['pr']"
   ]
  },
  {
   "cell_type": "markdown",
   "metadata": {},
   "source": [
    "### Triggering calculations manually\n",
    "\n",
    "You will find that xarray does not actually compute the result of a calculation until it's needed (for example, in a plot).\n",
    "\n",
    "If you want to force the data to be loaded, or a calculation to be made straight away, then you can use `.compute()`, for example:"
   ]
  },
  {
   "cell_type": "code",
   "execution_count": null,
   "metadata": {},
   "outputs": [],
   "source": [
    "air_temperature"
   ]
  },
  {
   "cell_type": "markdown",
   "metadata": {},
   "source": [
    "This is telling you about the size and shape of the result, but not its value because it has not yet been calculated.\n",
    "\n",
    "The actual calculation will be done using [Dask](https://dask.org/) (note the \"15 Tasks, 5 Chunks\"):"
   ]
  },
  {
   "cell_type": "code",
   "execution_count": null,
   "metadata": {},
   "outputs": [],
   "source": [
    "air_temperature.compute()"
   ]
  },
  {
   "cell_type": "markdown",
   "metadata": {},
   "source": [
    "## Selecting data by value, range or condition"
   ]
  },
  {
   "cell_type": "markdown",
   "metadata": {},
   "source": [
    "### By value\n",
    "\n",
    "To [select a value from a dimension](https://xarray.pydata.org/en/stable/indexing.html#indexing-with-dimension-names), we can use the `.sel()` method.\n",
    "\n",
    "For example, to select the air temperatures (for all latitudes and longitudes) for January 2000:"
   ]
  },
  {
   "cell_type": "code",
   "execution_count": null,
   "metadata": {},
   "outputs": [],
   "source": [
    "temperature_january = air_temperature.sel(time='2000-01')\n",
    "temperature_january.sizes"
   ]
  },
  {
   "cell_type": "markdown",
   "metadata": {},
   "source": [
    "(Note: for simplicity we're just displaying the size of the resulting data)\n",
    "\n",
    "When selecting by date, depending on the precision of the date we supply, more than one value may be returned.\n",
    "\n",
    "For example, to select each of the monthly air temperatures (for all latitudes and longitudes) for 2000:"
   ]
  },
  {
   "cell_type": "code",
   "execution_count": null,
   "metadata": {},
   "outputs": [],
   "source": [
    "temperature_2000 = air_temperature.sel(time='2000')\n",
    "temperature_2000.sizes"
   ]
  },
  {
   "cell_type": "markdown",
   "metadata": {},
   "source": [
    "If an exact match to your filter conditions doesn't exist, you can use the `method='nearest'` argument to [find the closest matching point](https://xarray.pydata.org/en/stable/indexing.html#nearest-neighbor-lookups). This is especially useful when selecting locations:"
   ]
  },
  {
   "cell_type": "code",
   "execution_count": null,
   "metadata": {},
   "outputs": [],
   "source": [
    "bristol_temperature = air_temperature.sel(lat=51.4578, lon=-2.6017, method='nearest')\n",
    "bristol_temperature.sizes"
   ]
  },
  {
   "cell_type": "markdown",
   "metadata": {},
   "source": [
    "### By range"
   ]
  },
  {
   "cell_type": "markdown",
   "metadata": {},
   "source": [
    "It's possible to use the `slice(start, end[, step])` function to specify ranges:"
   ]
  },
  {
   "cell_type": "code",
   "execution_count": null,
   "metadata": {},
   "outputs": [],
   "source": [
    "temperature_decade = air_temperature.sel(time=slice(\"2000-01\", \"2009-12\"))\n",
    "temperature_decade.sizes"
   ]
  },
  {
   "cell_type": "markdown",
   "metadata": {},
   "source": [
    "Bear in mind that unlike regular Python slicing, the range is inclusive of the `start` and `end` values supplied."
   ]
  },
  {
   "cell_type": "code",
   "execution_count": null,
   "metadata": {},
   "outputs": [],
   "source": [
    "temperature_equator = air_temperature.sel(lat=slice(-10, 10))\n",
    "temperature_equator.sizes"
   ]
  },
  {
   "cell_type": "markdown",
   "metadata": {},
   "source": [
    "### By condition\n",
    "\n",
    "For more complex queries, it is often convenient to use boolean arrays, which you can give helpful names to.\n",
    "\n",
    "For example, to select air temperatures for extreme latitudes it is winter in the northern hemisphere:"
   ]
  },
  {
   "cell_type": "code",
   "execution_count": null,
   "metadata": {},
   "outputs": [],
   "source": [
    "is_winter = air_temperature['time'].dt.season == 'DJF'\n",
    "is_extreme_latitude = abs(air_temperature['lat']) > 60\n",
    "\n",
    "temperature_winter_poles = air_temperature.isel(time=is_winter, lat=is_extreme_latitude)\n",
    "temperature_winter_poles.sizes"
   ]
  },
  {
   "cell_type": "markdown",
   "metadata": {},
   "source": [
    "## Selecting data by position\n",
    "\n",
    "Sometimes you will need to select data by position in the dataset. This can be done using the `.isel()` method, but it is generally better to use `.sel()` to select by value, unless you're selecting using a boolean array.\n",
    "\n",
    "For example, to select the first data point in the time dimension:"
   ]
  },
  {
   "cell_type": "code",
   "execution_count": null,
   "metadata": {},
   "outputs": [],
   "source": [
    "first_temperature = air_temperature.isel(time=0)\n",
    "first_temperature.sizes"
   ]
  },
  {
   "cell_type": "markdown",
   "metadata": {},
   "source": [
    "## Aggregrating data by dimension"
   ]
  },
  {
   "cell_type": "markdown",
   "metadata": {},
   "source": [
    "You can [aggregate your data](https://xarray.pydata.org/en/stable/computation.html#aggregation) using the `.mean()`, `.max()`, `.min()`, `.median()`, `.std()`, `.sum()`, etc. methods.\n",
    "\n",
    "For example, the mean temperature over all time:"
   ]
  },
  {
   "cell_type": "code",
   "execution_count": null,
   "metadata": {},
   "outputs": [],
   "source": [
    "average_temperature = air_temperature.mean(dim='time')\n",
    "average_temperature.sizes"
   ]
  },
  {
   "cell_type": "markdown",
   "metadata": {},
   "source": [
    "or over every longitude as well:"
   ]
  },
  {
   "cell_type": "code",
   "execution_count": null,
   "metadata": {},
   "outputs": [],
   "source": [
    "average_temperature = air_temperature.mean(dim=['time', 'lon'])\n",
    "average_temperature.sizes"
   ]
  },
  {
   "cell_type": "markdown",
   "metadata": {},
   "source": [
    "or over all the data:"
   ]
  },
  {
   "cell_type": "code",
   "execution_count": null,
   "metadata": {},
   "outputs": [],
   "source": [
    "average_temperature = air_temperature.mean()\n",
    "average_temperature.sizes"
   ]
  },
  {
   "cell_type": "markdown",
   "metadata": {},
   "source": [
    "Recall that we can call `.compute()` to find out what this is:"
   ]
  },
  {
   "cell_type": "code",
   "execution_count": null,
   "metadata": {},
   "outputs": [],
   "source": [
    "average_temperature.compute()"
   ]
  },
  {
   "cell_type": "markdown",
   "metadata": {},
   "source": [
    "## Resampling time series data"
   ]
  },
  {
   "cell_type": "markdown",
   "metadata": {},
   "source": [
    "When working with time series data, you [can use `.resample()`](https://xarray.pydata.org/en/stable/time-series.html#resampling-and-grouped-operations) which has the [same syntax as Pandas](https://pandas.pydata.org/pandas-docs/stable/user_guide/timeseries.html), in combination with the aggregation functions.\n",
    "\n",
    "For example, to calculate the annual mean, minimum and maximum temperatures for Bristol:"
   ]
  },
  {
   "cell_type": "code",
   "execution_count": null,
   "metadata": {},
   "outputs": [],
   "source": [
    "bristol_temperature = air_temperature.sel(lat=51.4578, lon=-2.6017, method=\"nearest\")\n",
    "\n",
    "annual_bristol_temperatures = (\n",
    "    bristol_temperature\n",
    "    .resample(time=\"1Y\")\n",
    ")\n",
    "\n",
    "mean_annual_temperature = annual_bristol_temperatures.mean()\n",
    "min_annual_temperature = annual_bristol_temperatures.min()\n",
    "max_annual_temperature = annual_bristol_temperatures.max()\n",
    "\n",
    "mean_annual_temperature.sizes"
   ]
  },
  {
   "cell_type": "markdown",
   "metadata": {},
   "source": [
    "## Grouping dimensions by value"
   ]
  },
  {
   "cell_type": "markdown",
   "metadata": {},
   "source": [
    "[Grouping data by value](https://xarray.pydata.org/en/stable/groupby.html) works similarly to resampling, again using a familiar Pandas-style syntax, except additional calendar functionality is available.\n",
    "\n",
    "For example, to calcuate the mean temperature in Bristol for each season:"
   ]
  },
  {
   "cell_type": "code",
   "execution_count": null,
   "metadata": {},
   "outputs": [],
   "source": [
    "bristol_seasonal_temperature = (\n",
    "    bristol_temperature\n",
    "    .groupby(\"time.season\")\n",
    "    .mean()\n",
    "    .reindex(season=[\"DJF\", \"MAM\", \"JJA\", \"SON\"])  # Put the values in a useful order\n",
    ")\n",
    "\n",
    "bristol_seasonal_temperature.compute()"
   ]
  },
  {
   "cell_type": "markdown",
   "metadata": {},
   "source": [
    "## Plotting line graphs"
   ]
  },
  {
   "cell_type": "markdown",
   "metadata": {},
   "source": [
    "TODO\n",
    "\n",
    "Putting it all together:"
   ]
  },
  {
   "cell_type": "code",
   "execution_count": null,
   "metadata": {},
   "outputs": [],
   "source": [
    "air_temperature = dataset['tas']\n",
    "\n",
    "bristol_temperature = air_temperature.sel(lat=51.4578, lon=-2.6017, method=\"nearest\")\n",
    "\n",
    "mean_annual_temperature = bristol_temperature.resample(time=\"1Y\").mean()\n",
    "min_annual_temperature = bristol_temperature.resample(time=\"1Y\").min()\n",
    "max_annual_temperature = bristol_temperature.resample(time=\"1Y\").max()\n",
    "\n",
    "mean_annual_temperature.plot()\n",
    "\n",
    "plt.fill_between(\n",
    "    x=min_annual_temperature['time'].values,\n",
    "    y1=min_annual_temperature.values,\n",
    "    y2=max_annual_temperature.values,\n",
    "    alpha=0.4,\n",
    ")"
   ]
  },
  {
   "cell_type": "markdown",
   "metadata": {},
   "source": [
    "## Plotting colormeshes"
   ]
  },
  {
   "cell_type": "markdown",
   "metadata": {},
   "source": [
    "TODO"
   ]
  },
  {
   "cell_type": "code",
   "execution_count": null,
   "metadata": {},
   "outputs": [],
   "source": [
    "(\n",
    "    dataset['tas']\n",
    "    .sel(time=\"2000-01\")\n",
    ").plot()"
   ]
  },
  {
   "cell_type": "markdown",
   "metadata": {},
   "source": [
    "## Plotting facet grids"
   ]
  },
  {
   "cell_type": "markdown",
   "metadata": {},
   "source": [
    "TODO"
   ]
  },
  {
   "cell_type": "code",
   "execution_count": null,
   "metadata": {},
   "outputs": [],
   "source": [
    "(\n",
    "    dataset['tas']\n",
    "    .groupby('time.season')\n",
    "    .mean()\n",
    "    .reindex(season=['DJF', 'MAM', 'JJA', 'SON'])  # Put the values in a useful order\n",
    ").plot(col='season')"
   ]
  },
  {
   "cell_type": "markdown",
   "metadata": {},
   "source": [
    "## Further reading\n",
    "\n",
    "* [xarray documentation](https://xarray.pydata.org/en/stable/index.html)\n",
    "* [pandas documentation](https://pandas.pydata.org/docs/)\n",
    "* [Matpltlib documentation](https://matplotlib.org/stable/contents.html)\n",
    "* [NumPy documentation](https://numpy.org/doc/stable/)\n",
    "* Bristol [Advanced Computing Research Centre (ACRC) training](https://www.bristol.ac.uk/acrc/acrc-training/)"
   ]
  },
  {
   "cell_type": "markdown",
   "metadata": {},
   "source": [
    "## Acknowledgements\n",
    "\n",
    "By: [James Thomas](https://github.com/jatonline/)\n",
    "\n",
    "Last updated: 22nd April 2021"
   ]
  }
 ],
 "metadata": {
  "kernelspec": {
   "display_name": "cmip6",
   "language": "python",
   "name": "cmip6"
  },
  "language_info": {
   "codemirror_mode": {
    "name": "ipython",
    "version": 3
   },
   "file_extension": ".py",
   "mimetype": "text/x-python",
   "name": "python",
   "nbconvert_exporter": "python",
   "pygments_lexer": "ipython3",
   "version": "3.8.8"
  },
  "toc-autonumbering": false,
  "toc-showcode": false,
  "toc-showmarkdowntxt": false,
  "toc-showtags": false
 },
 "nbformat": 4,
 "nbformat_minor": 5
}
