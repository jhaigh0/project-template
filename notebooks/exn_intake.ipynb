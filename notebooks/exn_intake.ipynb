{
 "cells": [
  {
   "cell_type": "markdown",
   "metadata": {},
   "source": [
    "# CMIP6 object store and `intake-esm`\n",
    "\n",
    "Using a datastore and the `intake-esm` package can greatly simplify searching for available CMIP6 data (e.g. from different models, experiments, variables). \n",
    "\n",
    "## JASMIN CMIP6 object store\n",
    "\n",
    "First we try using the [CMIP6 object store for JASMIN](https://github.com/cedadev/cmip6-object-store). I don't think this object store very complete at the moment, but it does have the advantage of pointing directly to the CMIP6 data on JASMIN which is close to the computation."
   ]
  },
  {
   "cell_type": "code",
   "execution_count": null,
   "metadata": {},
   "outputs": [],
   "source": [
    "import xarray as xr\n",
    "import intake\n",
    "import intake_esm\n",
    "import fsspec\n",
    "import matplotlib.pyplot as plt\n",
    "import cartopy.crs as ccrs\n",
    "%config InlineBackend.figure_format = 'retina'\n",
    "import warnings\n",
    "\n",
    "warnings.filterwarnings(\"ignore\")"
   ]
  },
  {
   "cell_type": "code",
   "execution_count": null,
   "metadata": {},
   "outputs": [],
   "source": [
    "col_url = \"https://raw.githubusercontent.com/cedadev/\" \\\n",
    "          \"cmip6-object-store/master/catalogs/ceda-zarr-cmip6.json\"\n",
    "col = intake.open_esm_datastore(col_url)\n",
    "f'There are {len(col.df)} datasets'"
   ]
  },
  {
   "cell_type": "code",
   "execution_count": null,
   "metadata": {},
   "outputs": [],
   "source": [
    "cat = col.search(source_id=\"UKESM1-0-LL\",\n",
    "    experiment_id=[\"historical\", \"ssp585-bgc\"], \n",
    "    member_id=[\"r4i1p1f2\", \"r12i1p1f2\"],\n",
    "    table_id=\"Amon\",\n",
    "    variable_id=\"tas\")\n",
    "\n",
    "\n",
    "# Extract the single record subsets for historical and future experiments\n",
    "hist_cat = cat.search(experiment_id='historical')\n",
    "ssp_cat = cat.search(experiment_id='ssp585-bgc')"
   ]
  },
  {
   "cell_type": "code",
   "execution_count": null,
   "metadata": {},
   "outputs": [],
   "source": [
    "def cat_to_ds(cat):\n",
    "    zarr_path = cat.df['zarr_path'][0] # read the first ensemble member\n",
    "    fsmap = fsspec.get_mapper(zarr_path)\n",
    "    return xr.open_zarr(fsmap, consolidated=True, use_cftime=True)"
   ]
  },
  {
   "cell_type": "code",
   "execution_count": null,
   "metadata": {},
   "outputs": [],
   "source": [
    "hist_tas = cat_to_ds(hist_cat)['tas']\n",
    "ssp_tas = cat_to_ds(ssp_cat)['tas']\n",
    "print(hist_tas)"
   ]
  },
  {
   "cell_type": "code",
   "execution_count": null,
   "metadata": {},
   "outputs": [],
   "source": [
    "# Calculate time means\n",
    "diff = ssp_tas.mean(axis=0) - hist_tas.mean(axis=0)\n",
    "\n",
    "# Plot a map of the time-series means\n",
    "plt.figure(figsize=(12,6))\n",
    "ax = plt.axes(projection=ccrs.Robinson())\n",
    "ax.coastlines()\n",
    "ax.gridlines()\n",
    "diff.plot(ax=ax, transform=ccrs.PlateCarree())"
   ]
  },
  {
   "cell_type": "markdown",
   "metadata": {},
   "source": [
    "# Pangeo CMIP6 store on Google Cloud\n",
    "\n",
    "Next we'll try reading from the Pangeo store of CMIP6 data, which is hosted on Google Cloud. This is physically further from the computation so likely to be slower."
   ]
  },
  {
   "cell_type": "code",
   "execution_count": null,
   "metadata": {},
   "outputs": [],
   "source": [
    "col = intake.open_esm_datastore(\"https://storage.googleapis.com/cmip6/pangeo-cmip6.json\")\n",
    "col"
   ]
  },
  {
   "cell_type": "code",
   "execution_count": null,
   "metadata": {},
   "outputs": [],
   "source": [
    "cat = col.search(\n",
    "    experiment_id=[\"historical\", \"ssp585\"],\n",
    "    table_id=\"Oyr\",\n",
    "    variable_id=\"o2\",\n",
    "    grid_label=\"gn\",\n",
    ")\n",
    "\n",
    "cat"
   ]
  },
  {
   "cell_type": "code",
   "execution_count": null,
   "metadata": {},
   "outputs": [],
   "source": [
    "dset_dict = cat.to_dataset_dict(\n",
    "    zarr_kwargs={\"consolidated\": True, \"decode_times\": True, \"use_cftime\": True}\n",
    ")"
   ]
  },
  {
   "cell_type": "code",
   "execution_count": null,
   "metadata": {},
   "outputs": [],
   "source": [
    "ds = dset_dict[\"CMIP.CCCma.CanESM5.historical.Oyr.gn\"]\n",
    "print(ds)"
   ]
  },
  {
   "cell_type": "code",
   "execution_count": null,
   "metadata": {},
   "outputs": [],
   "source": [
    "ds.o2.isel(time=0, lev=0, member_id=range(1, 24, 4)).plot(col=\"member_id\", col_wrap=3, robust=True)\n"
   ]
  },
  {
   "cell_type": "code",
   "execution_count": null,
   "metadata": {},
   "outputs": [],
   "source": []
  }
 ],
 "metadata": {
  "kernelspec": {
   "display_name": "cmip6",
   "language": "python",
   "name": "cmip6"
  },
  "language_info": {
   "codemirror_mode": {
    "name": "ipython",
    "version": 3
   },
   "file_extension": ".py",
   "mimetype": "text/x-python",
   "name": "python",
   "nbconvert_exporter": "python",
   "pygments_lexer": "ipython3",
   "version": "3.8.8"
  }
 },
 "nbformat": 4,
 "nbformat_minor": 4
}
